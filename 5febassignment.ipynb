{
 "cells": [
  {
   "cell_type": "markdown",
   "id": "007b14fd-283f-4e0d-927e-b4f5dea8e5ce",
   "metadata": {},
   "source": [
    "#Ans 1 \n",
    "A class can be thought of as blueprint or template for creating object. it defines the attributes(data) and behaviours(method)of a certain type of object.\n",
    "An object on the other hand , is an instance of a class. it is real-world entity that has a state (attributes) and behavior (methods). examples "
   ]
  },
  {
   "cell_type": "code",
   "execution_count": 1,
   "id": "cc525816-91e3-4051-947a-bd40fb6f6995",
   "metadata": {},
   "outputs": [],
   "source": [
    "class Players:\n",
    "    def __init__(self ,Player_Name, Player_age, Player_bestscore, Player_team ):\n",
    "        self.Player_Name = Player_Name\n",
    "        self.Player_age = Player_age\n",
    "        self.Player_bestscore = Player_bestscore\n",
    "        self.Player_team = Player_team\n",
    "        \n",
    "    def Details_Player(self):\n",
    "        return self.Player_Name, self.Player_age ,  self.Player_bestscore ,self.Player_team"
   ]
  },
  {
   "cell_type": "code",
   "execution_count": 7,
   "id": "33a09837-d250-406d-90e1-f678b19cf3bf",
   "metadata": {},
   "outputs": [],
   "source": [
    "ms_Dhoni = Players(\"MS Dhoni\", 35,100000 , \"India\")\n",
    "virat= Players(\"Virta Kholi\", 32 , 100000, \"India\")"
   ]
  },
  {
   "cell_type": "code",
   "execution_count": 8,
   "id": "39faeca9-d859-49ff-93c2-c6af902f62ee",
   "metadata": {},
   "outputs": [
    {
     "data": {
      "text/plain": [
       "100000"
      ]
     },
     "execution_count": 8,
     "metadata": {},
     "output_type": "execute_result"
    }
   ],
   "source": [
    "virat.Player_bestscore"
   ]
  },
  {
   "cell_type": "markdown",
   "id": "c1664e97-9bf2-41a8-8b64-fbb10a68b797",
   "metadata": {},
   "source": [
    "#Ans 2\n",
    "#1= Abstraction : Abstraction refers to the ability to represent essential features without shhowing the underlying complexity. it help to simplify complex system by hiding unnecessary information from the user.\n",
    "#2= Encapsulation: Encapsulation is the mechanism of wrapping data and function that operate on the data within a single unit, or object. it helps to protect the data from outside interfernce and misuse.\n",
    "#3= Inheritance: Inheritance is a mechanism that allows a new class to inherit the attributes and behaviors of an existing class. This allows for code reuse and the creation of new classes based on existing onces.\n",
    "#4= Polymorphism : Polymorphism is the ability of an object to take on many forms. it allows objects of differnet classes to be treated as object of the same class."
   ]
  },
  {
   "cell_type": "markdown",
   "id": "d9c2b890-ab2c-4a35-9776-c3e417e587dd",
   "metadata": {},
   "source": [
    "#Ans 3\n",
    "The __init__() function is used to initialize the attributes of an object when it is created. it allows to specify the default values for the attributes of an object, or to perform any other setup that is necessary to prepare the object for use"
   ]
  },
  {
   "cell_type": "code",
   "execution_count": 9,
   "id": "1f0f5786-68d7-4f37-95fa-6bd51788d28d",
   "metadata": {},
   "outputs": [],
   "source": [
    "class person:\n",
    "    def __init__(self, name , age):\n",
    "        self.name = name\n",
    "        self.age = age\n",
    "    def person_details(self):\n",
    "        return self.name, self.age"
   ]
  },
  {
   "cell_type": "code",
   "execution_count": 10,
   "id": "2053ae18-9d67-475b-86cf-3eeb80636f72",
   "metadata": {},
   "outputs": [],
   "source": [
    "Ayush = person(\"Thakur Ayush\" , 27 )"
   ]
  },
  {
   "cell_type": "code",
   "execution_count": 12,
   "id": "628dd255-2d2a-4f38-9e80-82f2bf81667c",
   "metadata": {},
   "outputs": [
    {
     "data": {
      "text/plain": [
       "('Thakur Ayush', 27)"
      ]
     },
     "execution_count": 12,
     "metadata": {},
     "output_type": "execute_result"
    }
   ],
   "source": [
    "Ayush.person_details()"
   ]
  },
  {
   "cell_type": "markdown",
   "id": "5d4f732d-599d-4471-aa6d-e0c92f6835b0",
   "metadata": {},
   "source": [
    "#Ans 4\n",
    "In (Oops) self is refernce to the instance of an object that is currently being used. it is used to access the attributes and methods of an object from within the object itself.\n",
    "when we define a method in a class, the first argument to the method usually \"self \". when the method is called, the instance of the boject is automatically passed as the first argumnet to the method. this allows we to access the attributes and methods of the object using the self refernce."
   ]
  },
  {
   "cell_type": "markdown",
   "id": "e1176fb1-db28-4991-b7d5-9ad21308e8e7",
   "metadata": {},
   "source": [
    "#Ans 5)\n",
    "Inheritance is a mechanism in object-oriented programming(OOP)\n",
    "where an object or class can inherit properties and behavior allows we can create a new class that is a modified version of an existing class, reusing its properties and methods.\n",
    "# 5 TYPES OF INHERITANCE:\n",
    "##1) Single inheritance:\n",
    "This is when a class inherits from only one superclass. for consider the class animal with properties like name, color and methods likes eat(), sleep(). now , if you want to create a class cat that represebts a cat , you can inherit from animal class and add some addtitional properties and methods specific to a cat like meow(). \n",
    "##2) Multiple inheritance:\n",
    "This is when a class inherits from mulitple superclass. for example consider two classes \"person\" and \"Employee\" has properties like \"employee_id \" , \"designation\".\n",
    "now if you want to create a class  Manger that represents a manager, you can inherit from both person and employee classes.\n",
    "##3) Multi-level inheritance:\n",
    "This is when a class inherits from class that inherits from another class. for example , consider a class \"vehicle\" with properties like \"number_of_wheels\" and methods like \"start()\", stop() . now you can create a class \"car\" that inherits from 'vehicale' class and add properties like 'number_of_doors'. forther, you can create another class 'sportscar' that inherits from 'car' class and add properties like 'top_spedd' .\n",
    "##4) Hierarchical inheritance: \n",
    "This is when multiple classes inherit from a single superclass. for rxample, consider a class 'Shape' with properties like 'color' and methods like 'calculate_area()'.now, you can create from the 'Shape'  class and add properties and methods specific to each of the shapes.\n",
    "##5) Hybrid inheritance :\n",
    "This is when a combinatioon of any of the above inheritance types is used in a single program. for example, you can have a scenario where a class \"A\" inherits from class \"B\" and class \"C\" and class \"B\" and class \"C\" both inherit from class \"D\".\n"
   ]
  },
  {
   "cell_type": "code",
   "execution_count": null,
   "id": "fb5693d0-209e-4643-a638-fad626d0bbda",
   "metadata": {},
   "outputs": [],
   "source": []
  }
 ],
 "metadata": {
  "kernelspec": {
   "display_name": "Python 3 (ipykernel)",
   "language": "python",
   "name": "python3"
  },
  "language_info": {
   "codemirror_mode": {
    "name": "ipython",
    "version": 3
   },
   "file_extension": ".py",
   "mimetype": "text/x-python",
   "name": "python",
   "nbconvert_exporter": "python",
   "pygments_lexer": "ipython3",
   "version": "3.10.8"
  }
 },
 "nbformat": 4,
 "nbformat_minor": 5
}
